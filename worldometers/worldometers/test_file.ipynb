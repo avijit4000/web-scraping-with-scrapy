{
 "cells": [
  {
   "cell_type": "code",
   "execution_count": 1,
   "metadata": {
    "collapsed": true,
    "pycharm": {
     "name": "#%%\n"
    }
   },
   "outputs": [],
   "source": [
    "import pandas as pd"
   ]
  },
  {
   "cell_type": "code",
   "execution_count": 2,
   "outputs": [],
   "source": [
    "df=pd.read_json(\"D:\\Pyn\\online learning\\INURAN_DATA\\FSDS_September\\TEST_WORK\\web_scraping\\spiders\\worldometers\\popjao.json\")"
   ],
   "metadata": {
    "collapsed": false,
    "pycharm": {
     "name": "#%%\n"
    }
   }
  },
  {
   "cell_type": "code",
   "execution_count": 4,
   "outputs": [
    {
     "data": {
      "text/plain": "  country    year     population\n0   India  2023.0  1,428,627,663\n1   India  2022.0  1,417,173,173\n2   India  2020.0  1,396,387,127\n3   India  2015.0  1,322,866,505\n4   India  2010.0  1,240,613,620",
      "text/html": "<div>\n<style scoped>\n    .dataframe tbody tr th:only-of-type {\n        vertical-align: middle;\n    }\n\n    .dataframe tbody tr th {\n        vertical-align: top;\n    }\n\n    .dataframe thead th {\n        text-align: right;\n    }\n</style>\n<table border=\"1\" class=\"dataframe\">\n  <thead>\n    <tr style=\"text-align: right;\">\n      <th></th>\n      <th>country</th>\n      <th>year</th>\n      <th>population</th>\n    </tr>\n  </thead>\n  <tbody>\n    <tr>\n      <th>0</th>\n      <td>India</td>\n      <td>2023.0</td>\n      <td>1,428,627,663</td>\n    </tr>\n    <tr>\n      <th>1</th>\n      <td>India</td>\n      <td>2022.0</td>\n      <td>1,417,173,173</td>\n    </tr>\n    <tr>\n      <th>2</th>\n      <td>India</td>\n      <td>2020.0</td>\n      <td>1,396,387,127</td>\n    </tr>\n    <tr>\n      <th>3</th>\n      <td>India</td>\n      <td>2015.0</td>\n      <td>1,322,866,505</td>\n    </tr>\n    <tr>\n      <th>4</th>\n      <td>India</td>\n      <td>2010.0</td>\n      <td>1,240,613,620</td>\n    </tr>\n  </tbody>\n</table>\n</div>"
     },
     "execution_count": 4,
     "metadata": {},
     "output_type": "execute_result"
    }
   ],
   "source": [
    "df.head()"
   ],
   "metadata": {
    "collapsed": false,
    "pycharm": {
     "name": "#%%\n"
    }
   }
  },
  {
   "cell_type": "code",
   "execution_count": 5,
   "outputs": [
    {
     "data": {
      "text/plain": "(3905, 3)"
     },
     "execution_count": 5,
     "metadata": {},
     "output_type": "execute_result"
    }
   ],
   "source": [
    "df.shape"
   ],
   "metadata": {
    "collapsed": false,
    "pycharm": {
     "name": "#%%\n"
    }
   }
  },
  {
   "cell_type": "code",
   "execution_count": 12,
   "outputs": [
    {
     "data": {
      "text/plain": "0       India\n1       India\n2       India\n3       India\n4       India\n        ...  \n3900    China\n3901    China\n3902    China\n3903    China\n3904    China\nName: country, Length: 3905, dtype: object"
     },
     "execution_count": 12,
     "metadata": {},
     "output_type": "execute_result"
    }
   ],
   "source": [
    "df[\"country\"]"
   ],
   "metadata": {
    "collapsed": false,
    "pycharm": {
     "name": "#%%\n"
    }
   }
  },
  {
   "cell_type": "code",
   "execution_count": 14,
   "outputs": [
    {
     "data": {
      "text/plain": "                     0              1              2              3     \\\ncountry             India          India          India          India   \nyear               2023.0         2022.0         2020.0         2015.0   \npopulation  1,428,627,663  1,417,173,173  1,396,387,127  1,322,866,505   \n\n                     4              5              6            7     \\\ncountry             India          India          India        India   \nyear               2010.0         2005.0         2000.0       1995.0   \npopulation  1,240,613,620  1,154,638,713  1,059,633,675  964,279,129   \n\n                   8            9     ...           3895           3896  \\\ncountry           India        India  ...          China          China   \nyear             1990.0       1985.0  ...         2000.0         1995.0   \npopulation  870,452,165  780,242,084  ...  1,264,099,069  1,218,144,426   \n\n                     3897           3898         3899         3900  \\\ncountry             China          China        China        China   \nyear               1990.0         1985.0       1980.0       1975.0   \npopulation  1,153,704,252  1,060,239,979  982,372,466  915,124,661   \n\n                   3901         3902         3903         3904  \ncountry           China        China        China        China  \nyear             1970.0       1965.0       1960.0       1955.0  \npopulation  822,534,450  723,846,349  654,170,692  603,320,147  \n\n[3 rows x 3905 columns]",
      "text/html": "<div>\n<style scoped>\n    .dataframe tbody tr th:only-of-type {\n        vertical-align: middle;\n    }\n\n    .dataframe tbody tr th {\n        vertical-align: top;\n    }\n\n    .dataframe thead th {\n        text-align: right;\n    }\n</style>\n<table border=\"1\" class=\"dataframe\">\n  <thead>\n    <tr style=\"text-align: right;\">\n      <th></th>\n      <th>0</th>\n      <th>1</th>\n      <th>2</th>\n      <th>3</th>\n      <th>4</th>\n      <th>5</th>\n      <th>6</th>\n      <th>7</th>\n      <th>8</th>\n      <th>9</th>\n      <th>...</th>\n      <th>3895</th>\n      <th>3896</th>\n      <th>3897</th>\n      <th>3898</th>\n      <th>3899</th>\n      <th>3900</th>\n      <th>3901</th>\n      <th>3902</th>\n      <th>3903</th>\n      <th>3904</th>\n    </tr>\n  </thead>\n  <tbody>\n    <tr>\n      <th>country</th>\n      <td>India</td>\n      <td>India</td>\n      <td>India</td>\n      <td>India</td>\n      <td>India</td>\n      <td>India</td>\n      <td>India</td>\n      <td>India</td>\n      <td>India</td>\n      <td>India</td>\n      <td>...</td>\n      <td>China</td>\n      <td>China</td>\n      <td>China</td>\n      <td>China</td>\n      <td>China</td>\n      <td>China</td>\n      <td>China</td>\n      <td>China</td>\n      <td>China</td>\n      <td>China</td>\n    </tr>\n    <tr>\n      <th>year</th>\n      <td>2023.0</td>\n      <td>2022.0</td>\n      <td>2020.0</td>\n      <td>2015.0</td>\n      <td>2010.0</td>\n      <td>2005.0</td>\n      <td>2000.0</td>\n      <td>1995.0</td>\n      <td>1990.0</td>\n      <td>1985.0</td>\n      <td>...</td>\n      <td>2000.0</td>\n      <td>1995.0</td>\n      <td>1990.0</td>\n      <td>1985.0</td>\n      <td>1980.0</td>\n      <td>1975.0</td>\n      <td>1970.0</td>\n      <td>1965.0</td>\n      <td>1960.0</td>\n      <td>1955.0</td>\n    </tr>\n    <tr>\n      <th>population</th>\n      <td>1,428,627,663</td>\n      <td>1,417,173,173</td>\n      <td>1,396,387,127</td>\n      <td>1,322,866,505</td>\n      <td>1,240,613,620</td>\n      <td>1,154,638,713</td>\n      <td>1,059,633,675</td>\n      <td>964,279,129</td>\n      <td>870,452,165</td>\n      <td>780,242,084</td>\n      <td>...</td>\n      <td>1,264,099,069</td>\n      <td>1,218,144,426</td>\n      <td>1,153,704,252</td>\n      <td>1,060,239,979</td>\n      <td>982,372,466</td>\n      <td>915,124,661</td>\n      <td>822,534,450</td>\n      <td>723,846,349</td>\n      <td>654,170,692</td>\n      <td>603,320,147</td>\n    </tr>\n  </tbody>\n</table>\n<p>3 rows × 3905 columns</p>\n</div>"
     },
     "execution_count": 14,
     "metadata": {},
     "output_type": "execute_result"
    }
   ],
   "source": [
    "df.T"
   ],
   "metadata": {
    "collapsed": false,
    "pycharm": {
     "name": "#%%\n"
    }
   }
  },
  {
   "cell_type": "code",
   "execution_count": 15,
   "outputs": [
    {
     "data": {
      "text/plain": "     country    year     population\n0      India  2023.0  1,428,627,663\n1      India  2022.0  1,417,173,173\n2      India  2020.0  1,396,387,127\n3      India  2015.0  1,322,866,505\n4      India  2010.0  1,240,613,620\n...      ...     ...            ...\n3900   China  1975.0    915,124,661\n3901   China  1970.0    822,534,450\n3902   China  1965.0    723,846,349\n3903   China  1960.0    654,170,692\n3904   China  1955.0    603,320,147\n\n[3905 rows x 3 columns]",
      "text/html": "<div>\n<style scoped>\n    .dataframe tbody tr th:only-of-type {\n        vertical-align: middle;\n    }\n\n    .dataframe tbody tr th {\n        vertical-align: top;\n    }\n\n    .dataframe thead th {\n        text-align: right;\n    }\n</style>\n<table border=\"1\" class=\"dataframe\">\n  <thead>\n    <tr style=\"text-align: right;\">\n      <th></th>\n      <th>country</th>\n      <th>year</th>\n      <th>population</th>\n    </tr>\n  </thead>\n  <tbody>\n    <tr>\n      <th>0</th>\n      <td>India</td>\n      <td>2023.0</td>\n      <td>1,428,627,663</td>\n    </tr>\n    <tr>\n      <th>1</th>\n      <td>India</td>\n      <td>2022.0</td>\n      <td>1,417,173,173</td>\n    </tr>\n    <tr>\n      <th>2</th>\n      <td>India</td>\n      <td>2020.0</td>\n      <td>1,396,387,127</td>\n    </tr>\n    <tr>\n      <th>3</th>\n      <td>India</td>\n      <td>2015.0</td>\n      <td>1,322,866,505</td>\n    </tr>\n    <tr>\n      <th>4</th>\n      <td>India</td>\n      <td>2010.0</td>\n      <td>1,240,613,620</td>\n    </tr>\n    <tr>\n      <th>...</th>\n      <td>...</td>\n      <td>...</td>\n      <td>...</td>\n    </tr>\n    <tr>\n      <th>3900</th>\n      <td>China</td>\n      <td>1975.0</td>\n      <td>915,124,661</td>\n    </tr>\n    <tr>\n      <th>3901</th>\n      <td>China</td>\n      <td>1970.0</td>\n      <td>822,534,450</td>\n    </tr>\n    <tr>\n      <th>3902</th>\n      <td>China</td>\n      <td>1965.0</td>\n      <td>723,846,349</td>\n    </tr>\n    <tr>\n      <th>3903</th>\n      <td>China</td>\n      <td>1960.0</td>\n      <td>654,170,692</td>\n    </tr>\n    <tr>\n      <th>3904</th>\n      <td>China</td>\n      <td>1955.0</td>\n      <td>603,320,147</td>\n    </tr>\n  </tbody>\n</table>\n<p>3905 rows × 3 columns</p>\n</div>"
     },
     "execution_count": 15,
     "metadata": {},
     "output_type": "execute_result"
    }
   ],
   "source": [
    "df"
   ],
   "metadata": {
    "collapsed": false,
    "pycharm": {
     "name": "#%%\n"
    }
   }
  },
  {
   "cell_type": "code",
   "execution_count": null,
   "outputs": [],
   "source": [],
   "metadata": {
    "collapsed": false,
    "pycharm": {
     "name": "#%%\n"
    }
   }
  }
 ],
 "metadata": {
  "kernelspec": {
   "display_name": "Python 3",
   "language": "python",
   "name": "python3"
  },
  "language_info": {
   "codemirror_mode": {
    "name": "ipython",
    "version": 2
   },
   "file_extension": ".py",
   "mimetype": "text/x-python",
   "name": "python",
   "nbconvert_exporter": "python",
   "pygments_lexer": "ipython2",
   "version": "2.7.6"
  }
 },
 "nbformat": 4,
 "nbformat_minor": 0
}